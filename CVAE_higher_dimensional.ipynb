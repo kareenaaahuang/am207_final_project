{
 "cells": [
  {
   "cell_type": "code",
   "execution_count": 1,
   "metadata": {},
   "outputs": [],
   "source": [
    "from autograd import numpy as np\n",
    "from autograd import grad\n",
    "import autograd.numpy.random as npr\n",
    "from autograd.misc.optimizers import adam, sgd\n",
    "from autograd import scipy as sp\n",
    "import matplotlib.pyplot as plt\n",
    "from tqdm import tqdm_notebook as tqdm\n",
    "%matplotlib inline"
   ]
  },
  {
   "cell_type": "markdown",
   "metadata": {},
   "source": [
    "Some formulas\n",
    "\n",
    "#### Objective: \n",
    "$$\\nabla_{\\theta,\\phi} ELBO (\\theta, q_{\\phi}) = \\sum_{n} \\mathbb{E}_{q_{\\phi}(z_n)} \\log p_{\\theta}(y_n|z_n) - D_{KL}[q_{\\phi}(z_n) || p_{\\theta}(z_n) ]$$\n",
    "\n",
    "Assume $ p_{\\theta}(z_n)$ has a normal prior $\\mathcal{N}(0,I)$. Let the latent space have J dimensions, i.e. $\\mu_n = [\\mu_{1_n}, \\ldots, \\mu_{J_n}]$ and \n",
    "$\\Sigma_n = \\begin{bmatrix} \\sigma_{1_n}^2 &\\ldots &0 \\\\\n",
    "\\vdots & \\ddots & \\vdots\\\\\n",
    "0 & \\ldots & \\sigma_{J_n}^2\\\\\n",
    "\\end{bmatrix}$\n",
    "\n",
    "So, $- D_{KL}[q_{\\phi}(z_n) || p_{\\theta}(z_n) ] = \\frac{1}{2} \\sum_{j=1}^J (1+log(\\sigma_{j_n}^2 )- \\mu_{j_n}^2 - \\sigma_{j_n}^2 )$"
   ]
  },
  {
   "cell_type": "markdown",
   "metadata": {},
   "source": [
    "---\n",
    "\n",
    "Toy example for 2 dimensional data and 1 dimensional latent space\n",
    "\n",
    "> FYI I might have mixed up variance and standard deviation in diff places so that's fun"
   ]
  },
  {
   "cell_type": "code",
   "execution_count": 2,
   "metadata": {},
   "outputs": [
    {
     "name": "stdout",
     "output_type": "stream",
     "text": [
      "3.5.6\n"
     ]
    }
   ],
   "source": [
    "from platform import python_version\n",
    "\n",
    "print(python_version())"
   ]
  },
  {
   "cell_type": "code",
   "execution_count": 3,
   "metadata": {},
   "outputs": [],
   "source": [
    "# just setting these as examples \n",
    "#y_n is one data point, L is the number of samples to estimate the expectation of the likelihood,\n",
    "# sigma data is the standard deviation of the data\n",
    "# y_n_1 = 0.24\n",
    "# y_n_2 = 0.01\n",
    "y_n = np.array([0.24, 0.01])\n",
    "l_n = 1\n",
    "# print('Data point: \\n{y_n}\\n')\n",
    "phi11 = np.array([0.1, 0.5])\n",
    "phi12 = np.array([0.8, 0.35])\n",
    "phi21 = np.array([0.35, 0.41])\n",
    "phi22 = np.array([0.1, 0.91])\n",
    "# print('Phi 1: \\n{phi_1}\\n')\n",
    "# print('Phi 2: \\n{phi_2}')\n",
    "# L = 10\n",
    "sigma_data = 0.5\n"
   ]
  },
  {
   "cell_type": "code",
   "execution_count": 4,
   "metadata": {},
   "outputs": [],
   "source": [
    "# define inference model function for label 0\n",
    "def g_phi(phi11, phi12, y_n):\n",
    "    '''\n",
    "    y_n is a vector of shape (,3)\n",
    "    phi_1, phi_2 are vectors of shape (1, 3) \n",
    "    '''\n",
    "    mu_n = np.dot(phi11, y_n)\n",
    "    std_n = np.abs(np.dot(phi12, y_n)) # added abs to make this positive always\n",
    "    \n",
    "    return mu_n, std_n"
   ]
  },
  {
   "cell_type": "code",
   "execution_count": 5,
   "metadata": {},
   "outputs": [],
   "source": [
    "# define likelihood model function\n",
    "def f_theta(theta, z_n):\n",
    "    '''\n",
    "    This is the prediction function. \n",
    "    \n",
    "    theta: one number\n",
    "    z_n: ONE 1-D sampled from \n",
    "    '''\n",
    "    return theta * z_n"
   ]
  },
  {
   "cell_type": "code",
   "execution_count": 6,
   "metadata": {},
   "outputs": [],
   "source": [
    "# monte carlo to get expectation of the likelihood\n",
    "## I added 0.000001 to help the log\n",
    "def monte_carlo_expectation(theta1, mu_n, std_n, L, y_n, sigma_data):\n",
    "    \n",
    "    # sample L latent variables - dis cray\n",
    "    seed = npr.RandomState(10)\n",
    "    z_n = seed.randn(int(L),y_n.shape[0]) * std_n + mu_n\n",
    "    \n",
    "    # get predictions using the prediction function, i.e. f_theta\n",
    "    y_n_pred = f_theta(theta1, z_n) # this is an array bc z_n is an array\n",
    "    y_n_full = np.repeat(y_n.reshape(-1,1), y_n_pred.shape[0], axis = 1).T\n",
    "    \n",
    "    # get log likelihood of observed data\n",
    "    ll = np.mean(-1/2 * np.log(2 * np.pi  * sigma_data**2 + 0.0000001) - \\\n",
    "                 ((y_n_pred - y_n_full)**2/(-2 * sigma_data**2)))\n",
    "    \n",
    "    return ll"
   ]
  },
  {
   "cell_type": "code",
   "execution_count": 7,
   "metadata": {},
   "outputs": [],
   "source": [
    "l_n = 1."
   ]
  },
  {
   "cell_type": "code",
   "execution_count": 8,
   "metadata": {},
   "outputs": [],
   "source": [
    "# define objective here, which is -(loglikelihood + -KL)\n",
    "def objective0(phi11, phi12, \n",
    "              theta1, \n",
    "              y_n = y_n,  L = 1e2, sigma_data = sigma_data):\n",
    "    '''\n",
    "    three unknowns - phi1, phi2, theta1\n",
    "    '''\n",
    "    mu_n1, std_n1 = g_phi(phi11, phi12, y_n)\n",
    "    ll = monte_carlo_expectation(theta1, mu_n1, std_n1, L, y_n, sigma_data)        \n",
    "\n",
    "    # KL divergence - closed form - latent space in 1D\n",
    "    negKL = 1/2 * (1 + np.log(std_n1**2 + 0.0000001) - mu_n1**2 - std_n1**2)\n",
    "    \n",
    "    return -(ll + negKL)"
   ]
  },
  {
   "cell_type": "code",
   "execution_count": 9,
   "metadata": {},
   "outputs": [],
   "source": [
    "# define objective here, which is -(loglikelihood + -KL)\n",
    "def objective1(phi21, phi22, \n",
    "              theta1, \n",
    "              y_n = y_n, L = 1e2, sigma_data = sigma_data):\n",
    "    '''\n",
    "    three unknowns - phi1, phi2, theta1\n",
    "    '''\n",
    "    # two components\n",
    "    # Likelihood - Monte Carlo\n",
    "   \n",
    "    mu_n2, std_n2 = g_phi(phi21, phi22, y_n)\n",
    "    ll = monte_carlo_expectation(theta1, mu_n2, std_n2, L, y_n, sigma_data)        \n",
    "\n",
    "    # KL divergence - closed form - latent space in 1D\n",
    "    negKL = 1/2 * (1 + np.log(std_n2**2 + 0.0000001) - mu_n2**2 - std_n2**2)\n",
    "    \n",
    "    return -(ll + negKL)"
   ]
  },
  {
   "cell_type": "code",
   "execution_count": 10,
   "metadata": {},
   "outputs": [
    {
     "data": {
      "text/plain": [
       "1.2560648773260596"
      ]
     },
     "execution_count": 10,
     "metadata": {},
     "output_type": "execute_result"
    }
   ],
   "source": [
    "## these are little checks \n",
    "objective1(phi11, phi12, theta1 = 1, y_n = y_n, L = 100000, sigma_data = 0.5)"
   ]
  },
  {
   "cell_type": "code",
   "execution_count": 11,
   "metadata": {},
   "outputs": [
    {
     "data": {
      "text/plain": [
       "array([-1.34356389, -0.05598183])"
      ]
     },
     "execution_count": 11,
     "metadata": {},
     "output_type": "execute_result"
    }
   ],
   "source": [
    "grad(objective1, 1)(phi11, phi12,  1.)"
   ]
  },
  {
   "cell_type": "code",
   "execution_count": 12,
   "metadata": {},
   "outputs": [
    {
     "data": {
      "text/plain": [
       "3.107008376131402"
      ]
     },
     "execution_count": 12,
     "metadata": {},
     "output_type": "execute_result"
    }
   ],
   "source": [
    "objective0(phi21, phi22, theta1 = 1, y_n = y_n, L = 100000, sigma_data = 0.5)"
   ]
  },
  {
   "cell_type": "code",
   "execution_count": 13,
   "metadata": {},
   "outputs": [
    {
     "data": {
      "text/plain": [
       "array([-1.34356389, -0.05598183])"
      ]
     },
     "execution_count": 13,
     "metadata": {},
     "output_type": "execute_result"
    }
   ],
   "source": [
    "grad(objective0, 1)(phi11, phi12,  1.)"
   ]
  },
  {
   "cell_type": "markdown",
   "metadata": {},
   "source": [
    "### Example"
   ]
  },
  {
   "cell_type": "markdown",
   "metadata": {},
   "source": [
    "3D data  \n",
    "1D latent space"
   ]
  },
  {
   "cell_type": "code",
   "execution_count": 27,
   "metadata": {},
   "outputs": [],
   "source": [
    "# init_params\n",
    "phi11, phi12, phi21, phi22, theta1 = np.array([0., 0.]),np.array([0.01, 0.01]),np.array([10.,10.]),np.array([0.01, 0.01]), 0.5\n",
    "# L = 1000\n",
    "sigma_data = 2\n",
    "learning_rate = 0.001\n",
    "n_iter = 1"
   ]
  },
  {
   "cell_type": "code",
   "execution_count": 28,
   "metadata": {},
   "outputs": [],
   "source": [
    "# generate some fake data f_theta(z) =  2 z + 1, z ~ N(0,1)\n",
    "np.random.seed(100)\n",
    "mean = np.array([0,0])\n",
    "cov_matrix = np.eye(2)\n",
    "# print()\n",
    "data1 = 2 * np.random.multivariate_normal(mean,cov_matrix,size = 200) + 9\n",
    "\n",
    "# generate some fake data f_theta(z) =  2 z + 5, z ~ N(0,1)\n",
    "mean = np.array([0,0])\n",
    "cov_matrix = np.eye(2)\n",
    "# print()\n",
    "data2 = 2 * np.random.multivariate_normal(mean,cov_matrix,size = 200) + 5\n",
    "\n",
    "# concatenate data\n",
    "data = np.concatenate([data1, data2])"
   ]
  },
  {
   "cell_type": "code",
   "execution_count": 29,
   "metadata": {},
   "outputs": [],
   "source": [
    "labels = np.concatenate([np.zeros(data1.shape[0]), np.ones(data1.shape[0])], axis =0)"
   ]
  },
  {
   "cell_type": "code",
   "execution_count": 30,
   "metadata": {},
   "outputs": [],
   "source": [
    "# grad(objective1,0)(phi11, phi12, theta1)"
   ]
  },
  {
   "cell_type": "code",
   "execution_count": 31,
   "metadata": {},
   "outputs": [
    {
     "data": {
      "application/vnd.jupyter.widget-view+json": {
       "model_id": "0b7b730340934535a4ca5de87a10fbbb",
       "version_major": 2,
       "version_minor": 0
      },
      "text/plain": [
       "HBox(children=(IntProgress(value=0, max=1), HTML(value='')))"
      ]
     },
     "metadata": {},
     "output_type": "display_data"
    },
    {
     "name": "stdout",
     "output_type": "stream",
     "text": [
      "\n"
     ]
    },
    {
     "name": "stderr",
     "output_type": "stream",
     "text": [
      "/anaconda3/envs/am207/lib/python3.5/site-packages/autograd/tracer.py:48: RuntimeWarning: overflow encountered in power\n",
      "  return f_raw(*args, **kwargs)\n",
      "/anaconda3/envs/am207/lib/python3.5/site-packages/autograd/numpy/numpy_vjps.py:71: RuntimeWarning: overflow encountered in double_scalars\n",
      "  lambda ans, x : lambda g: g * replace_zero(anp.conj(x), 0.) / replace_zero(ans, 1.))\n",
      "/anaconda3/envs/am207/lib/python3.5/site-packages/autograd/tracer.py:48: RuntimeWarning: invalid value encountered in subtract\n",
      "  return f_raw(*args, **kwargs)\n",
      "/anaconda3/envs/am207/lib/python3.5/site-packages/numpy/core/fromnumeric.py:83: RuntimeWarning: invalid value encountered in reduce\n",
      "  return ufunc.reduce(obj, axis, dtype, out, **passkwargs)\n",
      "/anaconda3/envs/am207/lib/python3.5/site-packages/ipykernel_launcher.py:15: RuntimeWarning: overflow encountered in double_scalars\n",
      "  from ipykernel import kernelapp as app\n",
      "/anaconda3/envs/am207/lib/python3.5/site-packages/autograd/numpy/numpy_vjps.py:59: RuntimeWarning: invalid value encountered in double_scalars\n",
      "  lambda ans, x, y : unbroadcast_f(x, lambda g: g * y * x ** anp.where(y, y - 1, 1.)),\n",
      "/anaconda3/envs/am207/lib/python3.5/site-packages/ipykernel_launcher.py:15: RuntimeWarning: invalid value encountered in double_scalars\n",
      "  from ipykernel import kernelapp as app\n"
     ]
    }
   ],
   "source": [
    "# very basic impl of running gradient descent. We should make this minibatch SGD\n",
    "\n",
    "for _ in tqdm(range(n_iter)):\n",
    "    for key, y_n in enumerate((data)):\n",
    "        l_n = labels[key]\n",
    "#         print('l_n', l_n)\n",
    "        if l_n == 0.:\n",
    "            # phi11\n",
    "#             print('grad(objective,0)', grad(objective,0)(phi11, phi12, phi21, phi22, theta1))\n",
    "            phi11_new = phi11 - learning_rate * grad(objective0,0)(phi11, phi12,theta1)\n",
    "            # phi12\n",
    "            phi12_new = phi12 - learning_rate * grad(objective0,1)(phi11, phi12, theta1)\n",
    "            # theta\n",
    "            theta1_new = theta1 - learning_rate * grad(objective0,2)(phi11, phi12,  theta1)\n",
    "            # update\n",
    "            phi11, phi12, theta1 = phi11_new, phi12_new, theta1_new\n",
    "        else: \n",
    "            # phi21\n",
    "            phi21_new = phi21 - learning_rate * grad(objective1,0)(phi21, phi22, theta1)\n",
    "            # phi22\n",
    "            phi22_new = phi22 - learning_rate * grad(objective1,1)(phi21, phi22, theta1)\n",
    "            # theta\n",
    "            theta1_new = theta1 - learning_rate * grad(objective1,2)(phi21, phi22, theta1)\n",
    "            # update\n",
    "            phi21, phi22, theta1 = phi21_new, phi22_new, theta1_new\n",
    "            \n",
    "        # update\n",
    "#         phi11, phi12, phi21, phi22, theta1 = phi11_new, phi12_new, phi21_new, phi22_new, theta1_new\n",
    "#         print('\\n Iteration: ', _ , '\\n', phi11)\n",
    "#         if key == 100:\n",
    "#             break"
   ]
  },
  {
   "cell_type": "code",
   "execution_count": 32,
   "metadata": {},
   "outputs": [],
   "source": [
    "# grad(objective1,1)(phi21, phi22, theta1)"
   ]
  },
  {
   "cell_type": "code",
   "execution_count": 33,
   "metadata": {
    "scrolled": true
   },
   "outputs": [
    {
     "data": {
      "text/plain": [
       "(array([-0.01164954, -0.0004854 ]),\n",
       " array([0.63857462, 0.03619061]),\n",
       " array([nan, nan]),\n",
       " array([nan, nan]),\n",
       " nan)"
      ]
     },
     "execution_count": 33,
     "metadata": {},
     "output_type": "execute_result"
    }
   ],
   "source": [
    "phi11, phi12, phi21, phi22, theta1"
   ]
  },
  {
   "cell_type": "code",
   "execution_count": 34,
   "metadata": {},
   "outputs": [
    {
     "ename": "ValueError",
     "evalue": "array must not contain infs or NaNs",
     "output_type": "error",
     "traceback": [
      "\u001b[0;31m---------------------------------------------------------------------------\u001b[0m",
      "\u001b[0;31mValueError\u001b[0m                                Traceback (most recent call last)",
      "\u001b[0;32m<ipython-input-34-19954b6fabf3>\u001b[0m in \u001b[0;36m<module>\u001b[0;34m()\u001b[0m\n\u001b[1;32m      9\u001b[0m     \u001b[0mmean\u001b[0m \u001b[0;34m=\u001b[0m \u001b[0mnp\u001b[0m\u001b[0;34m.\u001b[0m\u001b[0mrepeat\u001b[0m\u001b[0;34m(\u001b[0m\u001b[0mm\u001b[0m\u001b[0;34m,\u001b[0m \u001b[0mdata\u001b[0m\u001b[0;34m.\u001b[0m\u001b[0mshape\u001b[0m\u001b[0;34m[\u001b[0m\u001b[0;36m1\u001b[0m\u001b[0;34m]\u001b[0m\u001b[0;34m)\u001b[0m\u001b[0;34m\u001b[0m\u001b[0m\n\u001b[1;32m     10\u001b[0m     \u001b[0mcov\u001b[0m \u001b[0;34m=\u001b[0m \u001b[0mnp\u001b[0m\u001b[0;34m.\u001b[0m\u001b[0meye\u001b[0m\u001b[0;34m(\u001b[0m\u001b[0mdata\u001b[0m\u001b[0;34m.\u001b[0m\u001b[0mshape\u001b[0m\u001b[0;34m[\u001b[0m\u001b[0;36m1\u001b[0m\u001b[0;34m]\u001b[0m\u001b[0;34m)\u001b[0m\u001b[0;34m*\u001b[0m\u001b[0ms\u001b[0m\u001b[0;34m\u001b[0m\u001b[0m\n\u001b[0;32m---> 11\u001b[0;31m     \u001b[0mnew_y\u001b[0m\u001b[0;34m[\u001b[0m\u001b[0mk\u001b[0m\u001b[0;34m]\u001b[0m \u001b[0;34m=\u001b[0m \u001b[0mf_theta\u001b[0m\u001b[0;34m(\u001b[0m\u001b[0mtheta1\u001b[0m\u001b[0;34m,\u001b[0m \u001b[0mnp\u001b[0m\u001b[0;34m.\u001b[0m\u001b[0mrandom\u001b[0m\u001b[0;34m.\u001b[0m\u001b[0mmultivariate_normal\u001b[0m\u001b[0;34m(\u001b[0m\u001b[0mmean\u001b[0m\u001b[0;34m,\u001b[0m\u001b[0mcov\u001b[0m\u001b[0;34m)\u001b[0m\u001b[0;34m)\u001b[0m\u001b[0;34m\u001b[0m\u001b[0m\n\u001b[0m",
      "\u001b[0;32m/anaconda3/envs/am207/lib/python3.5/site-packages/autograd/tracer.py\u001b[0m in \u001b[0;36mf_wrapped\u001b[0;34m(*args, **kwargs)\u001b[0m\n\u001b[1;32m     46\u001b[0m             \u001b[0;32mreturn\u001b[0m \u001b[0mnew_box\u001b[0m\u001b[0;34m(\u001b[0m\u001b[0mans\u001b[0m\u001b[0;34m,\u001b[0m \u001b[0mtrace\u001b[0m\u001b[0;34m,\u001b[0m \u001b[0mnode\u001b[0m\u001b[0;34m)\u001b[0m\u001b[0;34m\u001b[0m\u001b[0m\n\u001b[1;32m     47\u001b[0m         \u001b[0;32melse\u001b[0m\u001b[0;34m:\u001b[0m\u001b[0;34m\u001b[0m\u001b[0m\n\u001b[0;32m---> 48\u001b[0;31m             \u001b[0;32mreturn\u001b[0m \u001b[0mf_raw\u001b[0m\u001b[0;34m(\u001b[0m\u001b[0;34m*\u001b[0m\u001b[0margs\u001b[0m\u001b[0;34m,\u001b[0m \u001b[0;34m**\u001b[0m\u001b[0mkwargs\u001b[0m\u001b[0;34m)\u001b[0m\u001b[0;34m\u001b[0m\u001b[0m\n\u001b[0m\u001b[1;32m     49\u001b[0m     \u001b[0mf_wrapped\u001b[0m\u001b[0;34m.\u001b[0m\u001b[0mfun\u001b[0m \u001b[0;34m=\u001b[0m \u001b[0mf_raw\u001b[0m\u001b[0;34m\u001b[0m\u001b[0m\n\u001b[1;32m     50\u001b[0m     \u001b[0mf_wrapped\u001b[0m\u001b[0;34m.\u001b[0m\u001b[0m_is_autograd_primitive\u001b[0m \u001b[0;34m=\u001b[0m \u001b[0;32mTrue\u001b[0m\u001b[0;34m\u001b[0m\u001b[0m\n",
      "\u001b[0;32mmtrand.pyx\u001b[0m in \u001b[0;36mmtrand.RandomState.multivariate_normal\u001b[0;34m()\u001b[0m\n",
      "\u001b[0;32m/anaconda3/envs/am207/lib/python3.5/site-packages/scipy/linalg/decomp_svd.py\u001b[0m in \u001b[0;36msvd\u001b[0;34m(a, full_matrices, compute_uv, overwrite_a, check_finite, lapack_driver)\u001b[0m\n\u001b[1;32m    107\u001b[0m \u001b[0;34m\u001b[0m\u001b[0m\n\u001b[1;32m    108\u001b[0m     \"\"\"\n\u001b[0;32m--> 109\u001b[0;31m     \u001b[0ma1\u001b[0m \u001b[0;34m=\u001b[0m \u001b[0m_asarray_validated\u001b[0m\u001b[0;34m(\u001b[0m\u001b[0ma\u001b[0m\u001b[0;34m,\u001b[0m \u001b[0mcheck_finite\u001b[0m\u001b[0;34m=\u001b[0m\u001b[0mcheck_finite\u001b[0m\u001b[0;34m)\u001b[0m\u001b[0;34m\u001b[0m\u001b[0m\n\u001b[0m\u001b[1;32m    110\u001b[0m     \u001b[0;32mif\u001b[0m \u001b[0mlen\u001b[0m\u001b[0;34m(\u001b[0m\u001b[0ma1\u001b[0m\u001b[0;34m.\u001b[0m\u001b[0mshape\u001b[0m\u001b[0;34m)\u001b[0m \u001b[0;34m!=\u001b[0m \u001b[0;36m2\u001b[0m\u001b[0;34m:\u001b[0m\u001b[0;34m\u001b[0m\u001b[0m\n\u001b[1;32m    111\u001b[0m         \u001b[0;32mraise\u001b[0m \u001b[0mValueError\u001b[0m\u001b[0;34m(\u001b[0m\u001b[0;34m'expected matrix'\u001b[0m\u001b[0;34m)\u001b[0m\u001b[0;34m\u001b[0m\u001b[0m\n",
      "\u001b[0;32m/anaconda3/envs/am207/lib/python3.5/site-packages/scipy/_lib/_util.py\u001b[0m in \u001b[0;36m_asarray_validated\u001b[0;34m(a, check_finite, sparse_ok, objects_ok, mask_ok, as_inexact)\u001b[0m\n\u001b[1;32m    236\u001b[0m             \u001b[0;32mraise\u001b[0m \u001b[0mValueError\u001b[0m\u001b[0;34m(\u001b[0m\u001b[0;34m'masked arrays are not supported'\u001b[0m\u001b[0;34m)\u001b[0m\u001b[0;34m\u001b[0m\u001b[0m\n\u001b[1;32m    237\u001b[0m     \u001b[0mtoarray\u001b[0m \u001b[0;34m=\u001b[0m \u001b[0mnp\u001b[0m\u001b[0;34m.\u001b[0m\u001b[0masarray_chkfinite\u001b[0m \u001b[0;32mif\u001b[0m \u001b[0mcheck_finite\u001b[0m \u001b[0;32melse\u001b[0m \u001b[0mnp\u001b[0m\u001b[0;34m.\u001b[0m\u001b[0masarray\u001b[0m\u001b[0;34m\u001b[0m\u001b[0m\n\u001b[0;32m--> 238\u001b[0;31m     \u001b[0ma\u001b[0m \u001b[0;34m=\u001b[0m \u001b[0mtoarray\u001b[0m\u001b[0;34m(\u001b[0m\u001b[0ma\u001b[0m\u001b[0;34m)\u001b[0m\u001b[0;34m\u001b[0m\u001b[0m\n\u001b[0m\u001b[1;32m    239\u001b[0m     \u001b[0;32mif\u001b[0m \u001b[0;32mnot\u001b[0m \u001b[0mobjects_ok\u001b[0m\u001b[0;34m:\u001b[0m\u001b[0;34m\u001b[0m\u001b[0m\n\u001b[1;32m    240\u001b[0m         \u001b[0;32mif\u001b[0m \u001b[0ma\u001b[0m\u001b[0;34m.\u001b[0m\u001b[0mdtype\u001b[0m \u001b[0;32mis\u001b[0m \u001b[0mnp\u001b[0m\u001b[0;34m.\u001b[0m\u001b[0mdtype\u001b[0m\u001b[0;34m(\u001b[0m\u001b[0;34m'O'\u001b[0m\u001b[0;34m)\u001b[0m\u001b[0;34m:\u001b[0m\u001b[0;34m\u001b[0m\u001b[0m\n",
      "\u001b[0;32m/anaconda3/envs/am207/lib/python3.5/site-packages/numpy/lib/function_base.py\u001b[0m in \u001b[0;36masarray_chkfinite\u001b[0;34m(a, dtype, order)\u001b[0m\n\u001b[1;32m    459\u001b[0m     \u001b[0;32mif\u001b[0m \u001b[0ma\u001b[0m\u001b[0;34m.\u001b[0m\u001b[0mdtype\u001b[0m\u001b[0;34m.\u001b[0m\u001b[0mchar\u001b[0m \u001b[0;32min\u001b[0m \u001b[0mtypecodes\u001b[0m\u001b[0;34m[\u001b[0m\u001b[0;34m'AllFloat'\u001b[0m\u001b[0;34m]\u001b[0m \u001b[0;32mand\u001b[0m \u001b[0;32mnot\u001b[0m \u001b[0mnp\u001b[0m\u001b[0;34m.\u001b[0m\u001b[0misfinite\u001b[0m\u001b[0;34m(\u001b[0m\u001b[0ma\u001b[0m\u001b[0;34m)\u001b[0m\u001b[0;34m.\u001b[0m\u001b[0mall\u001b[0m\u001b[0;34m(\u001b[0m\u001b[0;34m)\u001b[0m\u001b[0;34m:\u001b[0m\u001b[0;34m\u001b[0m\u001b[0m\n\u001b[1;32m    460\u001b[0m         raise ValueError(\n\u001b[0;32m--> 461\u001b[0;31m             \"array must not contain infs or NaNs\")\n\u001b[0m\u001b[1;32m    462\u001b[0m     \u001b[0;32mreturn\u001b[0m \u001b[0ma\u001b[0m\u001b[0;34m\u001b[0m\u001b[0m\n\u001b[1;32m    463\u001b[0m \u001b[0;34m\u001b[0m\u001b[0m\n",
      "\u001b[0;31mValueError\u001b[0m: array must not contain infs or NaNs"
     ]
    }
   ],
   "source": [
    "## make fake data\n",
    "new_y = np.zeros(data.shape)\n",
    "for k,i in enumerate(data):\n",
    "    if labels[k] == 0.0:\n",
    "        m, s = g_phi(phi11, phi12, i)\n",
    "    else: \n",
    "        m, s = g_phi(phi21, phi22, i)\n",
    "\n",
    "    mean = np.repeat(m, data.shape[1])\n",
    "    cov = np.eye(data.shape[1])*s\n",
    "    new_y[k] = f_theta(theta1, np.random.multivariate_normal(mean,cov))"
   ]
  },
  {
   "cell_type": "code",
   "execution_count": null,
   "metadata": {},
   "outputs": [],
   "source": [
    "new_y.shape"
   ]
  },
  {
   "cell_type": "code",
   "execution_count": null,
   "metadata": {},
   "outputs": [],
   "source": [
    "## make fake data\n",
    "new_y = np.zeros(data.shape)\n",
    "for k,i in enumerate(data):\n",
    "    m, s = g_phi(phi11, phi12, i)\n",
    "    mean = np.repeat(m, data.shape[1])\n",
    "    cov = np.eye(data.shape[1])*s\n",
    "    new_y[k] = f_theta(theta1, np.random.multivariate_normal(mean,cov))"
   ]
  },
  {
   "cell_type": "code",
   "execution_count": 33,
   "metadata": {},
   "outputs": [
    {
     "data": {
      "image/png": "[encoded data removed]",
      "text/plain": [
       "<Figure size 720x432 with 1 Axes>"
      ]
     },
     "metadata": {
      "needs_background": "light"
     },
     "output_type": "display_data"
    }
   ],
   "source": [
    "fig, ax = plt.subplots(figsize=(10, 6))\n",
    "ax.scatter(data1[:,0],data1[:,1], color = 'g', alpha = 0.5, label = 'Original Data')\n",
    "ax.scatter(data2[:,0],data2[:,1], color = 'r', alpha = 0.5, label = 'Original Data')\n",
    "# ax.scatter(new_y[:100,0],new_y[:100,1], color = 'k', alpha = 0.5, label = 'Generated Data')\n",
    "ax.scatter(new_y[:,0],new_y[:,1], color = 'b', alpha = 0.5, label = 'Generated Data')\n",
    "ax.set_title('Comparison of original and generated data using VAE')\n",
    "ax.legend()\n",
    "plt.show()"
   ]
  },
  {
   "cell_type": "markdown",
   "metadata": {},
   "source": [
    "\n",
    "---"
   ]
  }
 ],
 "metadata": {
  "kernelspec": {
   "display_name": "Python 3",
   "language": "python",
   "name": "python3"
  },
  "language_info": {
   "codemirror_mode": {
    "name": "ipython",
    "version": 3
   },
   "file_extension": ".py",
   "mimetype": "text/x-python",
   "name": "python",
   "nbconvert_exporter": "python",
   "pygments_lexer": "ipython3",
   "version": "3.5.6"
  }
 },
 "nbformat": 4,
 "nbformat_minor": 2
}
