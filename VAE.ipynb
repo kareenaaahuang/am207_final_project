{
 "cells": [
  {
   "cell_type": "code",
   "execution_count": 1,
   "metadata": {},
   "outputs": [],
   "source": [
    "from autograd import numpy as np\n",
    "from autograd import grad\n",
    "import autograd.numpy.random as npr\n",
    "from autograd.misc.optimizers import adam, sgd\n",
    "from autograd import scipy as sp\n",
    "import matplotlib.pyplot as plt\n",
    "from tqdm import tqdm_notebook as tqdm\n",
    "%matplotlib inline"
   ]
  },
  {
   "cell_type": "markdown",
   "metadata": {},
   "source": [
    "Some formulas\n",
    "\n",
    "#### Objective: \n",
    "$$\\nabla_{\\theta,\\phi} ELBO (\\theta, q_{\\phi}) = \\sum_{n} \\mathbb{E}_{q_{\\phi}(z_n)} \\log p_{\\theta}(y_n|z_n) - D_{KL}[q_{\\phi}(z_n) || p_{\\theta}(z_n) ]$$\n",
    "\n",
    "Assume $ p_{\\theta}(z_n)$ has a normal prior $\\mathcal{N}(0,I)$. Let the latent space have J dimensions, i.e. $\\mu_n = [\\mu_{1_n}, \\ldots, \\mu_{J_n}]$ and \n",
    "$\\Sigma_n = \\begin{bmatrix} \\sigma_{1_n}^2 &\\ldots &0 \\\\\n",
    "\\vdots & \\ddots & \\vdots\\\\\n",
    "0 & \\ldots & \\sigma_{J_n}^2\\\\\n",
    "\\end{bmatrix}$\n",
    "\n",
    "So, $- D_{KL}[q_{\\phi}(z_n) || p_{\\theta}(z_n) ] = \\frac{1}{2} \\sum_{j=1}^J (1+log(\\sigma_{j_n}^2 )- \\mu_{j_n}^2 - \\sigma_{j_n}^2 )$"
   ]
  },
  {
   "cell_type": "markdown",
   "metadata": {},
   "source": [
    "---\n",
    "\n",
    "Toy example for 1 dimensional data and 1 dimensional latent space\n",
    "\n",
    "> FYI I might have mixed up variance and standard deviation in diff places so that's fun"
   ]
  },
  {
   "cell_type": "code",
   "execution_count": 2,
   "metadata": {},
   "outputs": [],
   "source": [
    "# just setting these as examples \n",
    "#y_n is one data point, L is the number of samples to estimate the expectation of the likelihood,\n",
    "# sigma data is the standard deviation of the data\n",
    "y_n = 0.24\n",
    "L = 10\n",
    "sigma_data = 0.5"
   ]
  },
  {
   "cell_type": "code",
   "execution_count": 3,
   "metadata": {},
   "outputs": [],
   "source": [
    "# define inference model function\n",
    "def g_phi(phi1, phi2, y_n):\n",
    "    '''\n",
    "    phi1 is a number\n",
    "    phi2 is a number\n",
    "    y_n is ONE 1-D data point \n",
    "    '''\n",
    "    mu_n = phi1 * y_n \n",
    "    std_n = np.abs(phi2 * y_n) # added abs to make this positive always\n",
    "    \n",
    "    return mu_n, std_n"
   ]
  },
  {
   "cell_type": "code",
   "execution_count": 4,
   "metadata": {},
   "outputs": [],
   "source": [
    "# define likelihood model function\n",
    "def f_theta(theta, z_n):\n",
    "    '''\n",
    "    This is the prediction function. \n",
    "    \n",
    "    theta: one number\n",
    "    z_n: ONE 1-D sampled from \n",
    "    '''\n",
    "    return theta * z_n"
   ]
  },
  {
   "cell_type": "code",
   "execution_count": 5,
   "metadata": {},
   "outputs": [],
   "source": [
    "# monte carlo to get expectation of the likelihood\n",
    "## I added 0.000001 to help the log\n",
    "def monte_carlo_expectation(theta1, mu_n, std_n, L, y_n, sigma_data):\n",
    "    \n",
    "    # sample L latent variables - dis cray\n",
    "    seed = npr.RandomState(10)\n",
    "    z_n = seed.randn(L) * std_n + mu_n\n",
    "    \n",
    "    # get predictions using the prediction function, i.e. f_theta\n",
    "    y_n_pred = f_theta(theta1, z_n) #this is an array bc z_n is an array\n",
    "    y_n_full = np.repeat(y_n, y_n_pred.shape[0])\n",
    "    \n",
    "    # get log likelihood of observed data\n",
    "    ll = np.mean(-1/2 * np.log(2 * np.pi  * sigma_data**2 + 0.0000001) - \\\n",
    "                 ((y_n_pred - y_n_full)**2/(-2 * sigma_data**2)))\n",
    "    return ll"
   ]
  },
  {
   "cell_type": "code",
   "execution_count": 6,
   "metadata": {},
   "outputs": [],
   "source": [
    "# define objective here, which is -(loglikelihood + -KL)\n",
    "def objective(phi1, phi2, theta1, \n",
    "                y_n = y_n, L = L, sigma_data = sigma_data):\n",
    "    '''\n",
    "    three unknowns - phi1, phi2, theta1\n",
    "    '''\n",
    "    # two components\n",
    "    # Likelihood - Monte Carlo\n",
    "    mu_n, std_n = g_phi(phi1, phi2, y_n)\n",
    "    \n",
    "    ll = monte_carlo_expectation(theta1, mu_n, std_n, L, y_n, sigma_data)        \n",
    "    \n",
    "    # KL divergence - closed form - latent space in 1D\n",
    "    negKL = 1/2 * (1 + np.log(std_n**2 + 0.0000001) - mu_n**2 - std_n**2)\n",
    "    \n",
    "    return -(ll + negKL)"
   ]
  },
  {
   "cell_type": "code",
   "execution_count": 22,
   "metadata": {},
   "outputs": [
    {
     "data": {
      "text/plain": [
       "3.9466396844748672"
      ]
     },
     "execution_count": 22,
     "metadata": {},
     "output_type": "execute_result"
    }
   ],
   "source": [
    "## these are little checks \n",
    "objective(phi1 = 1, phi2 = 0.1, theta1 = 1, y_n = 2.4, L = 100000, sigma_data = 0.5)"
   ]
  },
  {
   "cell_type": "code",
   "execution_count": 20,
   "metadata": {},
   "outputs": [
    {
     "data": {
      "text/plain": [
       "0.056222016580436206"
      ]
     },
     "execution_count": 20,
     "metadata": {},
     "output_type": "execute_result"
    }
   ],
   "source": [
    "grad(objective,0)(1.0, 0.1, 1.)"
   ]
  },
  {
   "cell_type": "markdown",
   "metadata": {},
   "source": [
    "### Example"
   ]
  },
  {
   "cell_type": "markdown",
   "metadata": {},
   "source": [
    "1D data  \n",
    "1D latent space"
   ]
  },
  {
   "cell_type": "code",
   "execution_count": 23,
   "metadata": {},
   "outputs": [],
   "source": [
    "# generate some fake data f_theta(z) =  2 z + 2, z ~ N(0,1)\n",
    "np.random.seed(100)\n",
    "data = 2 * np.random.normal(0,1,size = 1000) + 2"
   ]
  },
  {
   "cell_type": "code",
   "execution_count": 24,
   "metadata": {},
   "outputs": [],
   "source": [
    "# init_params\n",
    "phi1, phi2, theta1 = 1., 1., 1.\n",
    "L = 1e6\n",
    "sigma_data = 2\n",
    "learning_rate = 0.00001\n",
    "n_iter = 20"
   ]
  },
  {
   "cell_type": "code",
   "execution_count": 25,
   "metadata": {},
   "outputs": [
    {
     "data": {
      "application/vnd.jupyter.widget-view+json": {
       "model_id": "21de5a84ab2c4735b20aca51c2a0cbce",
       "version_major": 2,
       "version_minor": 0
      },
      "text/plain": [
       "HBox(children=(IntProgress(value=0, max=20), HTML(value='')))"
      ]
     },
     "metadata": {},
     "output_type": "display_data"
    },
    {
     "name": "stdout",
     "output_type": "stream",
     "text": [
      "\n"
     ]
    }
   ],
   "source": [
    "# very basic impl of running gradient descent. We should make this minibatch SGD\n",
    "\n",
    "for _ in tqdm(range(n_iter)):\n",
    "    \n",
    "#     for y_n in tqdm(range(data.shape[0])):\n",
    "    for y_n in (range(data.shape[0])):\n",
    "#         print('objective', objective(phi1, phi2, theta1))\n",
    "#         print('grad objective' ,grad(objective,0)(phi1, phi2, theta1))\n",
    "        # phi1\n",
    "        phi1_new = phi1 - learning_rate * grad(objective,0)(phi1, phi2, theta1)\n",
    "        # phi1\n",
    "        phi2_new = phi2 - learning_rate * grad(objective,1)(phi1, phi2, theta1)\n",
    "        # phi1\n",
    "        theta1_new = theta1 - learning_rate * grad(objective,2)(phi1, phi2, theta1)\n",
    "        # update\n",
    "        phi1, phi2, theta1 = phi1_new, phi2_new, theta1_new"
   ]
  },
  {
   "cell_type": "code",
   "execution_count": 26,
   "metadata": {},
   "outputs": [
    {
     "data": {
      "text/plain": [
       "(0.9922703494836107, 1.1992504832599935, 1.0361982717098597)"
      ]
     },
     "execution_count": 26,
     "metadata": {},
     "output_type": "execute_result"
    }
   ],
   "source": [
    "phi1, phi2, theta1"
   ]
  },
  {
   "cell_type": "code",
   "execution_count": 27,
   "metadata": {},
   "outputs": [],
   "source": [
    "## make fake data\n",
    "new_y = []\n",
    "for i in data:\n",
    "    m,s = g_phi(phi1, phi2, i)\n",
    "    new_y.append(f_theta(theta1, np.random.normal(m,s)))"
   ]
  },
  {
   "cell_type": "code",
   "execution_count": 28,
   "metadata": {},
   "outputs": [
    {
     "data": {
      "image/png": "[encoded data removed]",
      "text/plain": [
       "<Figure size 432x288 with 1 Axes>"
      ]
     },
     "metadata": {
      "needs_background": "light"
     },
     "output_type": "display_data"
    }
   ],
   "source": [
    "plt.hist(data,  bins = 10, color = 'g', alpha = 0.3, label = 'Original Data');\n",
    "plt.hist(new_y,  bins = 10, color = 'k', alpha = 0.3, label = 'Generated Data')\n",
    "plt.title('Comparison of original and generated data using VAE')\n",
    "plt.legend();"
   ]
  },
  {
   "cell_type": "markdown",
   "metadata": {},
   "source": [
    "\n",
    "---"
   ]
  }
 ],
 "metadata": {
  "kernelspec": {
   "display_name": "Python 3",
   "language": "python",
   "name": "python3"
  },
  "language_info": {
   "codemirror_mode": {
    "name": "ipython",
    "version": 3
   },
   "file_extension": ".py",
   "mimetype": "text/x-python",
   "name": "python",
   "nbconvert_exporter": "python",
   "pygments_lexer": "ipython3",
   "version": "3.5.6"
  }
 },
 "nbformat": 4,
 "nbformat_minor": 2
}
